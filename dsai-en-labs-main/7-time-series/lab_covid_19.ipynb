{
  "cells": [
    {
      "cell_type": "markdown",
      "metadata": {
        "id": "6CNJdIF4Aws0"
      },
      "source": [
        "# Lab time series analysis: COVID-19 data\n",
        "\n",
        "\n",
        "In this lab assignment, we will make use of the COVID-19 dataset maintained by [Our World in Data](https://ourworldindata.org/coronavirus), published on Github at <https://github.com/owid/covid-19-data/tree/master/public/data>."
      ]
    },
    {
      "cell_type": "code",
      "execution_count": null,
      "metadata": {
        "id": "tDd0J19PAws5"
      },
      "outputs": [],
      "source": [
        "# Package imports for data science and time series analysis in particular\n",
        "from datetime import datetime\n",
        "import matplotlib.pyplot as plt\n",
        "import numpy as np\n",
        "import pandas as pd;\n",
        "import scipy.stats as stats;\n",
        "import seaborn as sns\n",
        "from sklearn.linear_model import LinearRegression\n",
        "from sklearn.metrics import mean_absolute_error,mean_squared_error\n",
        "from statsmodels.graphics.mosaicplot import mosaic\n",
        "from statsmodels.tsa.api import Holt\n",
        "from statsmodels.tsa.holtwinters import ExponentialSmoothing\n",
        "from statsmodels.tsa.seasonal import seasonal_decompose"
      ]
    },
    {
      "cell_type": "markdown",
      "metadata": {
        "id": "yvI2ynmmAws7"
      },
      "source": [
        "First, we import the dataset, parse the `date` column as the Python `DateTime` type and set this as the index:"
      ]
    },
    {
      "cell_type": "code",
      "execution_count": null,
      "metadata": {
        "id": "L0QB8skoAws-"
      },
      "outputs": [],
      "source": [
        "covid19 = pd.read_csv('https://covid.ourworldindata.org/data/owid-covid-data.csv', parse_dates=['date']).set_index(['date'])\n",
        "covid19.head()"
      ]
    },
    {
      "cell_type": "markdown",
      "metadata": {
        "id": "bOodvKkTAws_"
      },
      "source": [
        "Create a new `DataFrame` (with name e.g. `covid19_be`) that only contains the new cases in Belgium and use the `plot()` method of `DataFrame` to visualize it. Increase the size of the picture with the `figsize` parameter, otherwise it will be too small."
      ]
    },
    {
      "cell_type": "code",
      "execution_count": null,
      "metadata": {
        "id": "K4bxvU9TAws_"
      },
      "outputs": [],
      "source": [
        ""
      ]
    },
    {
      "cell_type": "markdown",
      "metadata": {
        "id": "CeZnfrTPAwtA"
      },
      "source": [
        "## Moving average\n",
        "\n",
        "Add new columns to the data frame with new cases in Belgium with the simple moving average for 7 and 30 days. Plot the entire data frame (observations and both moving averages)."
      ]
    },
    {
      "cell_type": "code",
      "execution_count": null,
      "metadata": {
        "id": "-Evh4PCJAwtB"
      },
      "outputs": [],
      "source": [
        ""
      ]
    },
    {
      "cell_type": "markdown",
      "metadata": {
        "id": "0cBdkFL-AwtB"
      },
      "source": [
        "## Holt-Winters model for new cases early 2021\n",
        "\n",
        "The period from about December 2020 up to the end of February 2021 seems quite regular. Create a new `DataFrame` and select only the observations during that period (1 December 2021 to 28 February 2022). Plot the `DataFrame` (it will still contain the moving averages from the previous step)."
      ]
    },
    {
      "cell_type": "code",
      "execution_count": null,
      "metadata": {
        "id": "PDDZYr7TAwtC"
      },
      "outputs": [],
      "source": [
        ""
      ]
    },
    {
      "cell_type": "markdown",
      "metadata": {
        "id": "usI_d-s1AwtD"
      },
      "source": [
        "\n",
        "\n",
        "Build a Holt-Winters model for the observed new cases during that period.\n",
        "\n",
        "Use the additive type for both trend and seasonal smoothing. Set the value for `seasonal_periods` to the appropriate value! Plot the observed and fitted values."
      ]
    },
    {
      "cell_type": "code",
      "execution_count": null,
      "metadata": {
        "id": "gyJsxeqFAwtD"
      },
      "outputs": [],
      "source": [
        ""
      ]
    },
    {
      "cell_type": "markdown",
      "metadata": {
        "id": "Z0EqhszNAwtE"
      },
      "source": [
        "Now, make a forecast for 21 days and plot observed and forecasted values. What do you notice when you compare observed and forecasted values as time progresses?"
      ]
    },
    {
      "cell_type": "code",
      "execution_count": null,
      "metadata": {
        "id": "T8ehKM3RAwtE"
      },
      "outputs": [],
      "source": [
        ""
      ]
    },
    {
      "cell_type": "markdown",
      "metadata": {
        "id": "4brdN0J1AwtF"
      },
      "source": [
        "## Evaluating model quality\n",
        "\n",
        "\n",
        "- Calculate the Mean Squared Error for a forecast period of 7 days, and compare its square root with the standard deviation of observed new cases over the test period and forecasted period combined.\n",
        "- Do the same for a forecast period of 14 and 21 days.\n",
        "- For which period is the quality of the forecast ok?\n",
        "\n",
        "The expected results are shown in the table below:\n",
        "\n",
        "|     Forecast period      |         MSE |     √MSE |    stdev |\n",
        "| :----------------------: | ----------: | -------: | -------: |\n",
        "| 2021-03-01 to 2021-03-07 |   64617.220 |  254.199 |  811.826 |\n",
        "| 2021-03-01 to 2021-03-14 |  208014.899 |  456.087 |  837.483 |\n",
        "| 2021-03-01 to 2021-03-21 | 3228834.183 | 1796.896 | 1154.486 |"
      ]
    },
    {
      "cell_type": "code",
      "execution_count": null,
      "metadata": {
        "id": "N_YbaT3qAwtG"
      },
      "outputs": [],
      "source": [
        ""
      ]
    },
    {
      "cell_type": "markdown",
      "metadata": {
        "id": "Pfw6_8rTAwtG"
      },
      "source": [
        "## ICU patients\n",
        "\n",
        "Create a new `DataFrame` with only the total number of ICU (intensive care units) patients in the Belgian hospitals. Make sure that all NaN's are removed, since time series analysis functions can't cope with missing values. Plot this time series. "
      ]
    },
    {
      "cell_type": "code",
      "execution_count": null,
      "metadata": {
        "id": "pzD0KcfdAwtG"
      },
      "outputs": [],
      "source": [
        ""
      ]
    },
    {
      "cell_type": "markdown",
      "metadata": {
        "id": "Rug4MWaPAwtG"
      },
      "source": [
        "Build a duible exponential smoothing (Holt) model of this time series. Make a forecast of 70 time units and plot the observations, fitted values and forecast.\n",
        "\n",
        "Are we currently in an upward or downward trend, according to this model? Do the forecasted values seem reasonable if you look at the last period?"
      ]
    },
    {
      "cell_type": "code",
      "execution_count": null,
      "metadata": {
        "id": "8OOfXf7jAwtH"
      },
      "outputs": [],
      "source": [
        ""
      ]
    },
    {
      "cell_type": "markdown",
      "metadata": {
        "id": "xeHjcE5UAwtH"
      },
      "source": [
        "Since we didn't set any initial parameters like $\\alpha$ and $\\beta$, the model calculated them using some rule of thumb. List these parameters from the model:"
      ]
    },
    {
      "cell_type": "code",
      "execution_count": null,
      "metadata": {
        "id": "Gogp-Kt7AwtH"
      },
      "outputs": [],
      "source": [
        ""
      ]
    },
    {
      "cell_type": "markdown",
      "metadata": {
        "id": "FZQg2MoWAwtI"
      },
      "source": [
        "What were the final estimated values for the level and trend, that are used in the forecast? In other words, what are the parameters of the line that estimates future observations?"
      ]
    },
    {
      "cell_type": "code",
      "execution_count": null,
      "metadata": {
        "id": "mKWie61AAwtI"
      },
      "outputs": [],
      "source": [
        ""
      ]
    },
    {
      "cell_type": "markdown",
      "metadata": {
        "id": "2nEOXNdFAwtI"
      },
      "source": [
        "Let's try to set the parameters ourselves. Recreate the Holt-model with $\\alpha = \\beta = 0.1$. Calculate a forecast like before and plot."
      ]
    },
    {
      "cell_type": "code",
      "execution_count": null,
      "metadata": {
        "id": "hBBl_oJQAwtI"
      },
      "outputs": [],
      "source": [
        ""
      ]
    },
    {
      "cell_type": "markdown",
      "metadata": {
        "id": "hXUV37D9AwtI"
      },
      "source": [
        "Compare the model parameters and final estimates. Which of the two forecast models seems to perform best if you look at the plots?"
      ]
    },
    {
      "cell_type": "code",
      "execution_count": null,
      "metadata": {
        "id": "1ce-FyXBAwtJ"
      },
      "outputs": [],
      "source": [
        ""
      ]
    }
  ],
  "metadata": {
    "language_info": {
      "name": "python"
    },
    "orig_nbformat": 4,
    "colab": {
      "name": "lab-covid-19.ipynb",
      "provenance": []
    }
  },
  "nbformat": 4,
  "nbformat_minor": 0
}