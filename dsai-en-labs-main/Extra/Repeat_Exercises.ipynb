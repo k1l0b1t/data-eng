{
  "cells": [
    {
      "cell_type": "code",
      "execution_count": 151,
      "metadata": {
        "id": "h8lEhL2YcUfL"
      },
      "outputs": [],
      "source": [
        "# !pip install matplotlib==3.4.3\n",
        "# !pip install --upgrade statsmodels"
      ]
    },
    {
      "cell_type": "code",
      "execution_count": 152,
      "metadata": {
        "colab": {
          "base_uri": "https://localhost:8080/"
        },
        "id": "-SV7QWw5HI4i",
        "outputId": "65642b44-ba49-4b5e-f976-97405c367312"
      },
      "outputs": [],
      "source": [
        "# Importing the necessary packages\n",
        "import numpy as np                                  # \"Scientific computing\"\n",
        "import scipy.stats as stats                         # Statistical tests\n",
        "\n",
        "import random\n",
        "import math\n",
        "\n",
        "import pandas as pd                                 # Data Frame\n",
        "from pandas.api.types import CategoricalDtype\n",
        "\n",
        "import matplotlib.pyplot as plt                     # Basic visualisation\n",
        "from statsmodels.graphics.mosaicplot import mosaic  # Mosaic diagram\n",
        "import seaborn as sns                               # Advanced data visualisation\n",
        "import altair as alt                                # Alternative visualisation system\n",
        "import math\n",
        "\n",
        "from statsmodels.graphics.mosaicplot import mosaic"
      ]
    },
    {
      "cell_type": "markdown",
      "metadata": {
        "id": "HBW7ATApFiO6"
      },
      "source": [
        "### Exercise 1\n",
        "\n",
        "The file lightbulbs.csv contains a random sample of\n",
        "100 lightbulb lifetimes. The company that produces\n",
        "these lightbulbs wants to know whether it can claim\n",
        "that its lightbulbs typically last more than 1000 burning\n",
        "hours.\n",
        "1. Identify the null and alternative hypotheses for this\n",
        "situation.\n",
        "2. Can this lightbulb manufacturer claim that its\n",
        "lightbulbs typically last more than 1000 hours at\n",
        "the 5% significance level? What about at the 1%\n",
        "significance level?\n"
      ]
    },
    {
      "cell_type": "code",
      "execution_count": 153,
      "metadata": {
        "colab": {
          "base_uri": "https://localhost:8080/",
          "height": 206
        },
        "id": "OlYhApJ7IlFY",
        "outputId": "e2c4ff14-37a1-4746-f239-e2c4e552ef4b"
      },
      "outputs": [
        {
          "data": {
            "text/html": [
              "<div>\n",
              "<style scoped>\n",
              "    .dataframe tbody tr th:only-of-type {\n",
              "        vertical-align: middle;\n",
              "    }\n",
              "\n",
              "    .dataframe tbody tr th {\n",
              "        vertical-align: top;\n",
              "    }\n",
              "\n",
              "    .dataframe thead th {\n",
              "        text-align: right;\n",
              "    }\n",
              "</style>\n",
              "<table border=\"1\" class=\"dataframe\">\n",
              "  <thead>\n",
              "    <tr style=\"text-align: right;\">\n",
              "      <th></th>\n",
              "      <th>Lightbulb</th>\n",
              "      <th>Lifetime</th>\n",
              "    </tr>\n",
              "  </thead>\n",
              "  <tbody>\n",
              "    <tr>\n",
              "      <th>0</th>\n",
              "      <td>1</td>\n",
              "      <td>840.08</td>\n",
              "    </tr>\n",
              "    <tr>\n",
              "      <th>1</th>\n",
              "      <td>2</td>\n",
              "      <td>960.00</td>\n",
              "    </tr>\n",
              "    <tr>\n",
              "      <th>2</th>\n",
              "      <td>3</td>\n",
              "      <td>953.38</td>\n",
              "    </tr>\n",
              "    <tr>\n",
              "      <th>3</th>\n",
              "      <td>4</td>\n",
              "      <td>981.14</td>\n",
              "    </tr>\n",
              "    <tr>\n",
              "      <th>4</th>\n",
              "      <td>5</td>\n",
              "      <td>938.66</td>\n",
              "    </tr>\n",
              "  </tbody>\n",
              "</table>\n",
              "</div>"
            ],
            "text/plain": [
              "   Lightbulb  Lifetime\n",
              "0          1    840.08\n",
              "1          2    960.00\n",
              "2          3    953.38\n",
              "3          4    981.14\n",
              "4          5    938.66"
            ]
          },
          "execution_count": 153,
          "metadata": {},
          "output_type": "execute_result"
        }
      ],
      "source": [
        "df = pd.read_csv('https://raw.githubusercontent.com/HoGentTIN/dsai-en-labs/main/data/Lightbulbs.csv', sep=\";\")\n",
        "df.head()"
      ]
    },
    {
      "cell_type": "markdown",
      "metadata": {},
      "source": [
        "- $H_0: \\mu = 1000$\n",
        "- $H_1: \\mu < 1000$"
      ]
    },
    {
      "cell_type": "code",
      "execution_count": 154,
      "metadata": {},
      "outputs": [],
      "source": [
        "a5 = 0.05\n",
        "a1 = 0.01"
      ]
    },
    {
      "cell_type": "code",
      "execution_count": 155,
      "metadata": {},
      "outputs": [],
      "source": [
        "n = df['Lightbulb'].count()\n",
        "sm = df['Lifetime'].mean()\n",
        "s = df['Lifetime'].std()\n",
        "s_sample = s / math.sqrt(n)\n",
        "a5= 0.05\n",
        "a1 = 0.01\n",
        "m0 = 1000\n"
      ]
    },
    {
      "cell_type": "code",
      "execution_count": 156,
      "metadata": {},
      "outputs": [
        {
          "data": {
            "text/plain": [
              "991.0186000000001"
            ]
          },
          "execution_count": 156,
          "metadata": {},
          "output_type": "execute_result"
        }
      ],
      "source": [
        "sm"
      ]
    },
    {
      "cell_type": "code",
      "execution_count": 157,
      "metadata": {},
      "outputs": [
        {
          "name": "stdout",
          "output_type": "stream",
          "text": [
            "p-waarde: 0.15142\n",
            "p > a, dus H0 niet verwerpen\n"
          ]
        }
      ],
      "source": [
        "p = stats.norm.cdf(sm, loc=m0, scale=s/np.sqrt(n)) # Let op! cdf() ipv sf()!\n",
        "print(\"p-waarde: %.5f\" % p)\n",
        "if(p < a5):\n",
        "    print(\"p < a, dus H0 verwerpen\")\n",
        "else:\n",
        "    print(\"p > a, dus H0 niet verwerpen\")"
      ]
    },
    {
      "cell_type": "code",
      "execution_count": 158,
      "metadata": {},
      "outputs": [
        {
          "name": "stdout",
          "output_type": "stream",
          "text": [
            "Critical value g ≃ 985.662\n",
            "sample mean = 991.019 > g = 985.662: do not reject H0\n"
          ]
        }
      ],
      "source": [
        "g = m0 - stats.norm.isf(a5) * s / np.sqrt(n)\n",
        "print(\"Critical value g ≃ %.3f\" % g)\n",
        "if (sm > g):\n",
        "    print(\"sample mean = %.3f > g = %.3f: do not reject H0\" % (sm, g))\n",
        "else:\n",
        "    print(\"sample mean = %.3f < g = %.3f: reject H0\" % (sm, g))"
      ]
    },
    {
      "cell_type": "code",
      "execution_count": 159,
      "metadata": {},
      "outputs": [
        {
          "data": {
            "text/plain": [
              "<matplotlib.collections.PolyCollection at 0x1b55d3d38b0>"
            ]
          },
          "execution_count": 159,
          "metadata": {},
          "output_type": "execute_result"
        },
        {
          "data": {
            "image/png": "[encoded data removed]",
            "text/plain": [
              "<Figure size 432x288 with 1 Axes>"
            ]
          },
          "metadata": {
            "needs_background": "light"
          },
          "output_type": "display_data"
        }
      ],
      "source": [
        "# Gauss-curve:\n",
        "# X-values\n",
        "dist_x = np.linspace(m0 - 4 * s/np.sqrt(n), m0 + 4 * s/np.sqrt(n), num=201)\n",
        "# Y-values\n",
        "dist_y = stats.norm.pdf(dist_x, m0, s/np.sqrt(n))\n",
        "fig, dplot = plt.subplots(1, 1)\n",
        "# Plot\n",
        "dplot.plot(dist_x, dist_y)\n",
        "# Hypothetical population mean in orange\n",
        "dplot.axvline(m0, color=\"orange\", lw=2)\n",
        "# Sample mean in red\n",
        "dplot.axvline(sm, color=\"red\")\n",
        "\n",
        "# Fill the acceptance region in light blue\n",
        "dplot.fill_between(dist_x, 0, dist_y, where=dist_x >= g, color='lightblue')"
      ]
    },
    {
      "cell_type": "markdown",
      "metadata": {
        "id": "Iop2aiMmJ4xg"
      },
      "source": [
        "### Exercise 2\n",
        "\n",
        "The file Low calorie soft drinks.csv categorizes 250 randomly\n",
        "selected consumers on the basis of their gender, their\n",
        "age, and their preference for our brand or a competitor's\n",
        "brand of a low-calorie soft drink.   \n",
        "First make a stacked barplot.  \n",
        "Then use a test to see whether the drink\n",
        "preference is independent of gender."
      ]
    },
    {
      "cell_type": "code",
      "execution_count": 160,
      "metadata": {
        "colab": {
          "base_uri": "https://localhost:8080/",
          "height": 206
        },
        "id": "74Ya0rIcLX3c",
        "outputId": "c9b2ed04-d110-4126-b661-fce94c2a27b8"
      },
      "outputs": [
        {
          "data": {
            "text/html": [
              "<div>\n",
              "<style scoped>\n",
              "    .dataframe tbody tr th:only-of-type {\n",
              "        vertical-align: middle;\n",
              "    }\n",
              "\n",
              "    .dataframe tbody tr th {\n",
              "        vertical-align: top;\n",
              "    }\n",
              "\n",
              "    .dataframe thead th {\n",
              "        text-align: right;\n",
              "    }\n",
              "</style>\n",
              "<table border=\"1\" class=\"dataframe\">\n",
              "  <thead>\n",
              "    <tr style=\"text-align: right;\">\n",
              "      <th></th>\n",
              "      <th>Consumer</th>\n",
              "      <th>Gender</th>\n",
              "      <th>Age</th>\n",
              "      <th>Preference</th>\n",
              "    </tr>\n",
              "  </thead>\n",
              "  <tbody>\n",
              "    <tr>\n",
              "      <th>0</th>\n",
              "      <td>1</td>\n",
              "      <td>F</td>\n",
              "      <td>Over 60</td>\n",
              "      <td>Our brand</td>\n",
              "    </tr>\n",
              "    <tr>\n",
              "      <th>1</th>\n",
              "      <td>2</td>\n",
              "      <td>F</td>\n",
              "      <td>Between 40 and 60</td>\n",
              "      <td>Our brand</td>\n",
              "    </tr>\n",
              "    <tr>\n",
              "      <th>2</th>\n",
              "      <td>3</td>\n",
              "      <td>M</td>\n",
              "      <td>Between 40 and 60</td>\n",
              "      <td>Our brand</td>\n",
              "    </tr>\n",
              "    <tr>\n",
              "      <th>3</th>\n",
              "      <td>4</td>\n",
              "      <td>F</td>\n",
              "      <td>Over 60</td>\n",
              "      <td>Competing brand</td>\n",
              "    </tr>\n",
              "    <tr>\n",
              "      <th>4</th>\n",
              "      <td>5</td>\n",
              "      <td>M</td>\n",
              "      <td>Between 20 and 40</td>\n",
              "      <td>Our brand</td>\n",
              "    </tr>\n",
              "  </tbody>\n",
              "</table>\n",
              "</div>"
            ],
            "text/plain": [
              "   Consumer Gender                Age       Preference\n",
              "0         1      F            Over 60        Our brand\n",
              "1         2      F  Between 40 and 60        Our brand\n",
              "2         3      M  Between 40 and 60        Our brand\n",
              "3         4      F            Over 60  Competing brand\n",
              "4         5      M  Between 20 and 40        Our brand"
            ]
          },
          "execution_count": 160,
          "metadata": {},
          "output_type": "execute_result"
        }
      ],
      "source": [
        "df = pd.read_csv('https://raw.githubusercontent.com/HoGentTIN/dsai-en-labs/main/data/Low%20calorie%20soft%20drinks.csv', sep=\";\")\n",
        "df.head()"
      ]
    },
    {
      "cell_type": "code",
      "execution_count": 161,
      "metadata": {},
      "outputs": [
        {
          "data": {
            "text/plain": [
              "<AxesSubplot:xlabel='Gender'>"
            ]
          },
          "execution_count": 161,
          "metadata": {},
          "output_type": "execute_result"
        },
        {
          "data": {
            "image/png": "[encoded data removed]",
            "text/plain": [
              "<Figure size 432x288 with 1 Axes>"
            ]
          },
          "metadata": {
            "needs_background": "light"
          },
          "output_type": "display_data"
        }
      ],
      "source": [
        "df.groupby(['Gender', 'Preference']).size().unstack().plot(kind='bar', stacked=True)\n"
      ]
    },
    {
      "cell_type": "code",
      "execution_count": 162,
      "metadata": {},
      "outputs": [
        {
          "data": {
            "text/html": [
              "<div>\n",
              "<style scoped>\n",
              "    .dataframe tbody tr th:only-of-type {\n",
              "        vertical-align: middle;\n",
              "    }\n",
              "\n",
              "    .dataframe tbody tr th {\n",
              "        vertical-align: top;\n",
              "    }\n",
              "\n",
              "    .dataframe thead th {\n",
              "        text-align: right;\n",
              "    }\n",
              "</style>\n",
              "<table border=\"1\" class=\"dataframe\">\n",
              "  <thead>\n",
              "    <tr style=\"text-align: right;\">\n",
              "      <th>Preference</th>\n",
              "      <th>Competing brand</th>\n",
              "      <th>Our brand</th>\n",
              "    </tr>\n",
              "    <tr>\n",
              "      <th>Gender</th>\n",
              "      <th></th>\n",
              "      <th></th>\n",
              "    </tr>\n",
              "  </thead>\n",
              "  <tbody>\n",
              "    <tr>\n",
              "      <th>F</th>\n",
              "      <td>90</td>\n",
              "      <td>94</td>\n",
              "    </tr>\n",
              "    <tr>\n",
              "      <th>M</th>\n",
              "      <td>26</td>\n",
              "      <td>40</td>\n",
              "    </tr>\n",
              "  </tbody>\n",
              "</table>\n",
              "</div>"
            ],
            "text/plain": [
              "Preference  Competing brand  Our brand\n",
              "Gender                                \n",
              "F                        90         94\n",
              "M                        26         40"
            ]
          },
          "execution_count": 162,
          "metadata": {},
          "output_type": "execute_result"
        }
      ],
      "source": [
        "pd.crosstab(df.Gender,df.Preference)"
      ]
    },
    {
      "cell_type": "code",
      "execution_count": 163,
      "metadata": {},
      "outputs": [
        {
          "name": "stdout",
          "output_type": "stream",
          "text": [
            "Chi-squared       : 1.4078\n",
            "Degrees of freedom: 1\n",
            "P-value           : 0.2354\n"
          ]
        }
      ],
      "source": [
        "observed = pd.crosstab(df.Gender, df.Preference)\n",
        "chi2, p, df, expected = stats.chi2_contingency(observed)\n",
        "\n",
        "print(\"Chi-squared       : %.4f\" % chi2)\n",
        "print(\"Degrees of freedom: %d\" % df)\n",
        "print(\"P-value           : %.4f\" % p)"
      ]
    },
    {
      "cell_type": "code",
      "execution_count": null,
      "metadata": {},
      "outputs": [],
      "source": []
    },
    {
      "cell_type": "code",
      "execution_count": 164,
      "metadata": {},
      "outputs": [
        {
          "name": "stdout",
          "output_type": "stream",
          "text": [
            "CramerV: 0.11864963226958096\n"
          ]
        }
      ],
      "source": [
        "cramers_v = np.sqrt(chi2 / (df * n))\n",
        "print(f'CramerV: {cramers_v}')"
      ]
    },
    {
      "cell_type": "markdown",
      "metadata": {},
      "source": [
        "| Cramér's V | Interpretation          |\n",
        "| :---:      | :---                    |\n",
        "| 0          | No association          |\n",
        "| 0.1        | Weak association        |\n",
        "| 0.25       | Moderate association    |\n",
        "| 0.50       | Strong association      |\n",
        "| 0.75       | Very strong association |\n",
        "| 1          | Complete association    |"
      ]
    },
    {
      "cell_type": "code",
      "execution_count": 165,
      "metadata": {},
      "outputs": [
        {
          "data": {
            "text/plain": [
              "<matplotlib.lines.Line2D at 0x1b55d47cc10>"
            ]
          },
          "execution_count": 165,
          "metadata": {},
          "output_type": "execute_result"
        },
        {
          "data": {
            "image/png": "[encoded data removed]",
            "text/plain": [
              "<Figure size 432x288 with 1 Axes>"
            ]
          },
          "metadata": {
            "needs_background": "light"
          },
          "output_type": "display_data"
        }
      ],
      "source": [
        "# Is there an association between Gender and Survey?\n",
        "alpha = 0.05\n",
        "\n",
        "# x-values:\n",
        "x = np.linspace(0, 15, num=100)\n",
        "# probability density of the chi-squared distribution with 4 degrees of freedom\n",
        "y = stats.chi2.pdf(x, df=df)\n",
        "# the number q for which the right tail probability is exactly 5%:\n",
        "q = stats.chi2.isf(alpha, df=df)  # TODO: CHECK this!\n",
        "\n",
        "fig, tplot = plt.subplots(1, 1)\n",
        "tplot.plot(x, y)                     # probability density\n",
        "tplot.fill_between(x, y, where=x>=q, # critical area\n",
        "    color='lightblue')\n",
        "tplot.axvline(q)                     # critical value\n",
        "tplot.axvline(chi2, color='orange')  # chi-squared"
      ]
    },
    {
      "cell_type": "markdown",
      "metadata": {},
      "source": [
        "We see that $\\chi^2$ is well within the region of acceptance. The $p$-value is also greater than $\\alpha$. Consequently, we cannot reject the null hypothesis and conclude that, based on this sample, there is no reason to believe that there is a significant difference between women's and men's answers to the survey question.\n"
      ]
    },
    {
      "cell_type": "markdown",
      "metadata": {
        "id": "dRNMj2R2blic"
      },
      "source": [
        "# Exercise 3\n",
        "The owner of Original Italian Pizza restaurant chain\n",
        "wants to understand which variable most strongly\n",
        "influences the sales of his specialty deep-dish\n",
        "pizza. He has gathered data on the monthly sales of\n",
        "deep-dish pizzas at his restaurants and observations on\n",
        "other potentially relevant variables for each of several\n",
        "outlets in central Indiana. These data are provided in\n",
        "the file pizzas.csv. Estimate a simple linear regression\n",
        "equation between the quantity sold (Y) and each\n",
        "of the following candidates for the best explanatory\n",
        "variable: average price of deep-dish pizzas, monthly\n",
        "advertising expenditures, and disposable income per\n",
        "household in the areas surrounding the outlets. Which\n",
        "variable is most strongly associated with the number\n",
        "of pizzas sold? Explain your choice.  \n",
        "Start by transforming the text values to a float. Divide Quantity Sold, Monthly Advertising Expenditures and Disposable Income Per Househols by 100.  \n",
        "Make a plot  \n",
        "\n",
        "![image.png](data:image/png;base64,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)"
      ]
    },
    {
      "cell_type": "code",
      "execution_count": 166,
      "metadata": {
        "id": "GHUL66opblie"
      },
      "outputs": [
        {
          "data": {
            "text/html": [
              "<div>\n",
              "<style scoped>\n",
              "    .dataframe tbody tr th:only-of-type {\n",
              "        vertical-align: middle;\n",
              "    }\n",
              "\n",
              "    .dataframe tbody tr th {\n",
              "        vertical-align: top;\n",
              "    }\n",
              "\n",
              "    .dataframe thead th {\n",
              "        text-align: right;\n",
              "    }\n",
              "</style>\n",
              "<table border=\"1\" class=\"dataframe\">\n",
              "  <thead>\n",
              "    <tr style=\"text-align: right;\">\n",
              "      <th></th>\n",
              "      <th>Outlet Number</th>\n",
              "      <th>Quantity Sold</th>\n",
              "      <th>Average Price</th>\n",
              "      <th>Monthly Advertising Expenditures</th>\n",
              "      <th>Disposable Income per Household</th>\n",
              "    </tr>\n",
              "  </thead>\n",
              "  <tbody>\n",
              "    <tr>\n",
              "      <th>0</th>\n",
              "      <td>1</td>\n",
              "      <td>85 300</td>\n",
              "      <td>$10,14</td>\n",
              "      <td>$64 800</td>\n",
              "      <td>$42 100</td>\n",
              "    </tr>\n",
              "    <tr>\n",
              "      <th>1</th>\n",
              "      <td>2</td>\n",
              "      <td>40 500</td>\n",
              "      <td>$10,88</td>\n",
              "      <td>$42 800</td>\n",
              "      <td>$38 300</td>\n",
              "    </tr>\n",
              "    <tr>\n",
              "      <th>2</th>\n",
              "      <td>3</td>\n",
              "      <td>61 800</td>\n",
              "      <td>$12,33</td>\n",
              "      <td>$58 600</td>\n",
              "      <td>$41 000</td>\n",
              "    </tr>\n",
              "    <tr>\n",
              "      <th>3</th>\n",
              "      <td>4</td>\n",
              "      <td>50 800</td>\n",
              "      <td>$12,70</td>\n",
              "      <td>$46 500</td>\n",
              "      <td>$43 300</td>\n",
              "    </tr>\n",
              "    <tr>\n",
              "      <th>4</th>\n",
              "      <td>5</td>\n",
              "      <td>60 600</td>\n",
              "      <td>$12,29</td>\n",
              "      <td>$50 700</td>\n",
              "      <td>$44 000</td>\n",
              "    </tr>\n",
              "  </tbody>\n",
              "</table>\n",
              "</div>"
            ],
            "text/plain": [
              "   Outlet Number Quantity Sold Average Price Monthly Advertising Expenditures  \\\n",
              "0              1        85 300        $10,14                          $64 800   \n",
              "1              2        40 500        $10,88                          $42 800   \n",
              "2              3        61 800        $12,33                          $58 600   \n",
              "3              4        50 800        $12,70                          $46 500   \n",
              "4              5        60 600        $12,29                          $50 700   \n",
              "\n",
              "  Disposable Income per Household  \n",
              "0                         $42 100  \n",
              "1                         $38 300  \n",
              "2                         $41 000  \n",
              "3                         $43 300  \n",
              "4                         $44 000  "
            ]
          },
          "execution_count": 166,
          "metadata": {},
          "output_type": "execute_result"
        }
      ],
      "source": [
        "df = pd.read_csv('https://raw.githubusercontent.com/HoGentTIN/dsai-en-labs/main/data/pizzas.csv', sep=\";\")\n",
        "df.head()"
      ]
    },
    {
      "cell_type": "code",
      "execution_count": 167,
      "metadata": {},
      "outputs": [
        {
          "data": {
            "text/plain": [
              "Outlet Number                        int64\n",
              "Quantity Sold                       object\n",
              "Average Price                       object\n",
              "Monthly Advertising Expenditures    object\n",
              "Disposable Income per Household     object\n",
              "dtype: object"
            ]
          },
          "execution_count": 167,
          "metadata": {},
          "output_type": "execute_result"
        }
      ],
      "source": [
        "df.dtypes"
      ]
    },
    {
      "cell_type": "code",
      "execution_count": 168,
      "metadata": {},
      "outputs": [
        {
          "name": "stderr",
          "output_type": "stream",
          "text": [
            "C:\\Users\\szymo\\AppData\\Local\\Temp\\ipykernel_22268\\422341021.py:1: FutureWarning: The default value of regex will change from True to False in a future version. In addition, single character regular expressions will *not* be treated as literal strings when regex=True.\n",
            "  df[\"Average Price\"] = df[\"Average Price\"].str.replace(\"$\", \"\")\n",
            "C:\\Users\\szymo\\AppData\\Local\\Temp\\ipykernel_22268\\422341021.py:3: FutureWarning: The default value of regex will change from True to False in a future version. In addition, single character regular expressions will *not* be treated as literal strings when regex=True.\n",
            "  df[\"Monthly Advertising Expenditures\"] = df[\"Monthly Advertising Expenditures\"].str.replace(\"$\", \"\")\n",
            "C:\\Users\\szymo\\AppData\\Local\\Temp\\ipykernel_22268\\422341021.py:5: FutureWarning: The default value of regex will change from True to False in a future version. In addition, single character regular expressions will *not* be treated as literal strings when regex=True.\n",
            "  df[\"Disposable Income per Household\"] = df[\"Disposable Income per Household\"].str.replace(\"$\", \"\")\n"
          ]
        },
        {
          "name": "stdout",
          "output_type": "stream",
          "text": [
            "<class 'pandas.core.frame.DataFrame'>\n",
            "RangeIndex: 15 entries, 0 to 14\n",
            "Data columns (total 5 columns):\n",
            " #   Column                            Non-Null Count  Dtype  \n",
            "---  ------                            --------------  -----  \n",
            " 0   Outlet Number                     15 non-null     int64  \n",
            " 1   Quantity Sold                     15 non-null     float64\n",
            " 2   Average Price                     15 non-null     float64\n",
            " 3   Monthly Advertising Expenditures  15 non-null     float64\n",
            " 4   Disposable Income per Household   15 non-null     float64\n",
            "dtypes: float64(4), int64(1)\n",
            "memory usage: 728.0 bytes\n"
          ]
        }
      ],
      "source": [
        "df[\"Average Price\"] = df[\"Average Price\"].str.replace(\"$\", \"\")\n",
        "df[\"Average Price\"] = df[\"Average Price\"].str.replace(\",\", \".\")\n",
        "df[\"Monthly Advertising Expenditures\"] = df[\"Monthly Advertising Expenditures\"].str.replace(\"$\", \"\")\n",
        "df[\"Monthly Advertising Expenditures\"] = df[\"Monthly Advertising Expenditures\"].str.replace(\" \", \"\")\n",
        "df[\"Disposable Income per Household\"] = df[\"Disposable Income per Household\"].str.replace(\"$\", \"\")\n",
        "df[\"Disposable Income per Household\"] = df[\"Disposable Income per Household\"].str.replace(\" \", \"\")\n",
        "df[\"Average Price\"] = df[\"Average Price\"].astype(float)\n",
        "df[\"Monthly Advertising Expenditures\"] = df[\"Monthly Advertising Expenditures\"].astype(float)\n",
        "df[\"Monthly Advertising Expenditures\"] = df[\"Monthly Advertising Expenditures\"] / 100\n",
        "df[\"Disposable Income per Household\"] = df[\"Disposable Income per Household\"].astype(float)\n",
        "df[\"Disposable Income per Household\"] = df[\"Disposable Income per Household\"] / 100\n",
        "df[\"Quantity Sold\"] = df[\"Quantity Sold\"].str.replace(\" \", \"\")\n",
        "df[\"Quantity Sold\"] = df[\"Quantity Sold\"].astype(float)\n",
        "df[\"Quantity Sold\"] = df[\"Quantity Sold\"] / 100\n",
        "df.info()"
      ]
    },
    {
      "cell_type": "code",
      "execution_count": 169,
      "metadata": {},
      "outputs": [
        {
          "data": {
            "text/plain": [
              "Text(0.5, 1.0, 'Quantity Sold vs Disposable Income per Household')"
            ]
          },
          "execution_count": 169,
          "metadata": {},
          "output_type": "execute_result"
        },
        {
          "data": {
            "image/png": "[encoded data removed]",
            "text/plain": [
              "<Figure size 1440x360 with 3 Axes>"
            ]
          },
          "metadata": {
            "needs_background": "light"
          },
          "output_type": "display_data"
        }
      ],
      "source": [
        "fig, axs = plt.subplots(1, 3, figsize=(20,5))\n",
        "sns.regplot(ax=axs[0], data=df, x='Average Price', y='Quantity Sold')\n",
        "axs[0].set_title(\"Quantity Sold vs Average Price\")\n",
        "sns.regplot(ax=axs[1], data=df, x='Monthly Advertising Expenditures', y='Quantity Sold')\n",
        "axs[1].set_title(\"Quantity Sold vs Monthly Advertising Expenditures\")\n",
        "sns.regplot(ax=axs[2], data=df, x='Disposable Income per Household', y='Quantity Sold')\n",
        "axs[1].set_title(\"Quantity Sold vs Disposable Income per Household\")"
      ]
    },
    {
      "cell_type": "markdown",
      "metadata": {},
      "source": [
        "## 1"
      ]
    },
    {
      "cell_type": "code",
      "execution_count": 54,
      "metadata": {},
      "outputs": [
        {
          "name": "stdout",
          "output_type": "stream",
          "text": [
            "Regression line: ŷ = 1177.63 + -47.13 x\n"
          ]
        }
      ],
      "source": [
        "from sklearn.linear_model import LinearRegression\n",
        "\n",
        "x = df['Average Price'].values.reshape(-1,1)\n",
        "y = df['Quantity Sold']\n",
        "\n",
        "weight_model = LinearRegression().fit(x, y)\n",
        "\n",
        "print(f\"Regression line: ŷ = {weight_model.intercept_:.2f} + {weight_model.coef_[0]:.2f} x\")"
      ]
    },
    {
      "cell_type": "code",
      "execution_count": 55,
      "metadata": {},
      "outputs": [
        {
          "name": "stdout",
          "output_type": "stream",
          "text": [
            "R = -0.3502036809966066\n"
          ]
        }
      ],
      "source": [
        "cor = np.corrcoef(df['Average Price'], df['Quantity Sold'])[0][1]\n",
        "print(f\"R = {cor}\")"
      ]
    },
    {
      "cell_type": "code",
      "execution_count": 56,
      "metadata": {},
      "outputs": [
        {
          "name": "stdout",
          "output_type": "stream",
          "text": [
            "R² = 0.122642618183573\n"
          ]
        }
      ],
      "source": [
        "print(f\"R² = {cor ** 2}\")"
      ]
    },
    {
      "cell_type": "markdown",
      "metadata": {},
      "source": [
        "## 2"
      ]
    },
    {
      "cell_type": "code",
      "execution_count": 57,
      "metadata": {},
      "outputs": [
        {
          "name": "stdout",
          "output_type": "stream",
          "text": [
            "Regression line: ŷ = -326.55 + 1.75 x\n"
          ]
        }
      ],
      "source": [
        "from sklearn.linear_model import LinearRegression\n",
        "\n",
        "x = df['Monthly Advertising Expenditures'].values.reshape(-1,1)\n",
        "y = df['Quantity Sold']\n",
        "\n",
        "weight_model = LinearRegression().fit(x, y)\n",
        "\n",
        "print(f\"Regression line: ŷ = {weight_model.intercept_:.2f} + {weight_model.coef_[0]:.2f} x\")"
      ]
    },
    {
      "cell_type": "code",
      "execution_count": 58,
      "metadata": {},
      "outputs": [
        {
          "name": "stdout",
          "output_type": "stream",
          "text": [
            "R = 0.933994400229857\n"
          ]
        }
      ],
      "source": [
        "cor = np.corrcoef(df['Monthly Advertising Expenditures'], df['Quantity Sold'])[0][1]\n",
        "print(f\"R = {cor}\")"
      ]
    },
    {
      "cell_type": "code",
      "execution_count": 59,
      "metadata": {},
      "outputs": [
        {
          "name": "stdout",
          "output_type": "stream",
          "text": [
            "R² = 0.8723455396607304\n"
          ]
        }
      ],
      "source": [
        "print(f\"R² = {cor ** 2}\")"
      ]
    },
    {
      "cell_type": "markdown",
      "metadata": {},
      "source": [
        "## 3"
      ]
    },
    {
      "cell_type": "code",
      "execution_count": 60,
      "metadata": {},
      "outputs": [
        {
          "name": "stdout",
          "output_type": "stream",
          "text": [
            "Regression line: ŷ = -583.86 + 2.94 x\n"
          ]
        }
      ],
      "source": [
        "from sklearn.linear_model import LinearRegression\n",
        "\n",
        "x = df['Disposable Income per Household'].values.reshape(-1,1)\n",
        "y = df['Quantity Sold']\n",
        "\n",
        "weight_model = LinearRegression().fit(x, y)\n",
        "\n",
        "print(f\"Regression line: ŷ = {weight_model.intercept_:.2f} + {weight_model.coef_[0]:.2f} x\")"
      ]
    },
    {
      "cell_type": "code",
      "execution_count": 61,
      "metadata": {},
      "outputs": [
        {
          "name": "stdout",
          "output_type": "stream",
          "text": [
            "R = 0.4834832685678616\n"
          ]
        }
      ],
      "source": [
        "cor = np.corrcoef(df['Disposable Income per Household'], df['Quantity Sold'])[0][1]\n",
        "print(f\"R = {cor}\")"
      ]
    },
    {
      "cell_type": "code",
      "execution_count": 62,
      "metadata": {},
      "outputs": [
        {
          "name": "stdout",
          "output_type": "stream",
          "text": [
            "R² = 0.233756070985063\n"
          ]
        }
      ],
      "source": [
        "print(f\"R² = {cor ** 2}\")"
      ]
    }
  ],
  "metadata": {
    "colab": {
      "collapsed_sections": [],
      "name": "Repeat_Exercises.ipynb",
      "provenance": []
    },
    "interpreter": {
      "hash": "8394caf736e900d7ee1789f073abf29288b24295c23c395fe862a6106f19c220"
    },
    "kernelspec": {
      "display_name": "Python 3.10.4 64-bit",
      "language": "python",
      "name": "python3"
    },
    "language_info": {
      "codemirror_mode": {
        "name": "ipython",
        "version": 3
      },
      "file_extension": ".py",
      "mimetype": "text/x-python",
      "name": "python",
      "nbconvert_exporter": "python",
      "pygments_lexer": "ipython3",
      "version": "3.10.4"
    }
  },
  "nbformat": 4,
  "nbformat_minor": 0
}
